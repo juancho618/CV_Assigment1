{
 "cells": [
  {
   "cell_type": "code",
   "execution_count": null,
   "metadata": {},
   "outputs": [
    {
     "ename": "",
     "evalue": "",
     "output_type": "error",
     "traceback": [
      "\u001b[1;31mFailed to start the Kernel. \n",
      "\u001b[1;31m[ WARN:0@0.154] global C:\\b\\abs_d8ltn27ay8\\croot\\opencv-suite_1676452046667\\work\\modules\\videoio\\src\\cap_gstreamer.cpp (2386) cv::handleMessage OpenCV | GStreamer warning: your GStreamer installation is missing a required plugin\n",
      "\u001b[1;31m[ WARN:0@0.154] global C:\\b\\abs_d8ltn27ay8\\croot\\opencv-suite_1676452046667\\work\\modules\\videoio\\src\\cap_gstreamer.cpp (2402) cv::handleMessage OpenCV | GStreamer warning: Embedded video playback halted; module uridecodebin0 reported: Your GStreamer installation is missing a plug-in.\n",
      "\u001b[1;31m[ WARN:0@0.154] global C:\\b\\abs_d8ltn27ay8\\croot\\opencv-suite_1676452046667\\work\\modules\\videoio\\src\\cap_gstreamer.cpp (1356) cv::GStreamerCapture::open OpenCV | GStreamer warning: unable to start pipeline\n",
      "\u001b[1;31m[ WARN:0@0.154] global C:\\b\\abs_d8ltn27ay8\\croot\\opencv-suite_1676452046667\\work\\modules\\videoio\\src\\cap_gstreamer.cpp (862) cv::GStreamerCapture::isPipelinePlaying OpenCV | GStreamer warning: GStreamer: pipeline have not been created\n",
      "\u001b[1;31m\n",
      "\u001b[1;31m(python.exe:20628): GLib-GIO-WARNING **: 11:02:16.524: Unexpectedly, UWP app `Clipchamp.Clipchamp_2.5.15.0_neutral__yxz26nhyzhsrt' (AUMId `Clipchamp.Clipchamp_yxz26nhyzhsrt!App') supports 41 extensions but has no verbs\n",
      "\u001b[1;31m\n",
      "\u001b[1;31m(python.exe:20628): GLib-GIO-WARNING **: 11:02:16.704: Unexpectedly, UWP app `Microsoft.ScreenSketch_11.2302.4.0_x64__8wekyb3d8bbwe' (AUMId `Microsoft.ScreenSketch_8wekyb3d8bbwe!App') supports 29 extensions but has no verbs\n",
      "\u001b[1;31mTraceback (most recent call last):\n",
      "\u001b[1;31m  File \"c:\\Users\\JUANC\\anaconda3\\envs\\CV\\lib\\runpy.py\", line 197, in _run_module_as_main\n",
      "\u001b[1;31m    return _run_code(code, main_globals, None,\n",
      "\u001b[1;31m  File \"c:\\Users\\JUANC\\anaconda3\\envs\\CV\\lib\\runpy.py\", line 87, in _run_code\n",
      "\u001b[1;31m    exec(code, run_globals)\n",
      "\u001b[1;31m  File \"c:\\Users\\JUANC\\anaconda3\\envs\\CV\\lib\\site-packages\\ipykernel_launcher.py\", line 15, in <module>\n",
      "\u001b[1;31m    from ipykernel import kernelapp as app\n",
      "\u001b[1;31m  File \"c:\\Users\\JUANC\\anaconda3\\envs\\CV\\lib\\site-packages\\ipykernel\\kernelapp.py\", line 51, in <module>\n",
      "\u001b[1;31m    from .ipkernel import IPythonKernel\n",
      "\u001b[1;31m  File \"c:\\Users\\JUANC\\anaconda3\\envs\\CV\\lib\\site-packages\\ipykernel\\ipkernel.py\", line 19, in <module>\n",
      "\u001b[1;31m    from .debugger import Debugger, _is_debugpy_available\n",
      "\u001b[1;31m  File \"c:\\Users\\JUANC\\anaconda3\\envs\\CV\\lib\\site-packages\\ipykernel\\debugger.py\", line 22, in <module>\n",
      "\u001b[1;31m    from debugpy.server import api  # noqa\n",
      "\u001b[1;31m  File \"c:\\Users\\JUANC\\anaconda3\\envs\\CV\\lib\\site-packages\\debugpy\\server\\__init__.py\", line 9, in <module>\n",
      "\u001b[1;31m    import debugpy._vendored.force_pydevd  # noqa\n",
      "\u001b[1;31m  File \"c:\\Users\\JUANC\\anaconda3\\envs\\CV\\lib\\site-packages\\debugpy\\_vendored\\force_pydevd.py\", line 37, in <module>\n",
      "\u001b[1;31m    pydevd_constants = import_module('_pydevd_bundle.pydevd_constants')\n",
      "\u001b[1;31m  File \"c:\\Users\\JUANC\\anaconda3\\envs\\CV\\lib\\importlib\\__init__.py\", line 127, in import_module\n",
      "\u001b[1;31m    return _bootstrap._gcd_import(name[level:], package, level)\n",
      "\u001b[1;31m  File \"c:\\Users\\JUANC\\anaconda3\\envs\\CV\\lib\\site-packages\\debugpy\\_vendored\\pydevd\\_pydevd_bundle\\pydevd_constants.py\", line 365, in <module>\n",
      "\u001b[1;31m    from _pydev_imps._pydev_saved_modules import thread, threading\n",
      "\u001b[1;31m  File \"c:\\Users\\JUANC\\anaconda3\\envs\\CV\\lib\\site-packages\\debugpy\\_vendored\\pydevd\\_pydev_imps\\_pydev_saved_modules.py\", line 93, in <module>\n",
      "\u001b[1;31m    import code as _code;    verify_shadowed.check(_code, ['compile_command', 'InteractiveInterpreter'])\n",
      "\u001b[1;31m  File \"c:\\Users\\JUANC\\anaconda3\\envs\\CV\\lib\\site-packages\\debugpy\\_vendored\\pydevd\\_pydev_imps\\_pydev_saved_modules.py\", line 77, in check\n",
      "\u001b[1;31m    raise DebuggerInitializationError(msg)\n",
      "\u001b[1;31m_pydev_imps._pydev_saved_modules.DebuggerInitializationError: It was not possible to initialize the debugger due to a module name conflict.\n",
      "\u001b[1;31m\n",
      "\u001b[1;31mi.e.: the module \"code\" could not be imported because it is shadowed by:\n",
      "\u001b[1;31md:\\Dropbox\\KU Leuven\\Computer Vision\\assigments\\assigment 1\\code\\code.py\n",
      "\u001b[1;31mPlease rename this file/folder so that the original module from the standard library can be imported. \n",
      "\u001b[1;31mView Jupyter <a href='command:jupyter.viewOutput'>log</a> for further details."
     ]
    }
   ],
   "source": [
    "import cv2 as cv\n",
    "video = cv.VideoCapture('vid.mp4')\n"
   ]
  },
  {
   "attachments": {},
   "cell_type": "markdown",
   "metadata": {},
   "source": [
    "# Filter subtractor"
   ]
  },
  {
   "cell_type": "markdown",
   "metadata": {},
   "source": []
  },
  {
   "cell_type": "code",
   "execution_count": 3,
   "metadata": {},
   "outputs": [],
   "source": [
    "subtractor = cv.createBackgroundSubtractorMOG2(20,50)"
   ]
  },
  {
   "attachments": {},
   "cell_type": "markdown",
   "metadata": {},
   "source": [
    "# See video frame by frame"
   ]
  },
  {
   "cell_type": "code",
   "execution_count": 5,
   "metadata": {},
   "outputs": [
    {
     "ename": "KeyboardInterrupt",
     "evalue": "",
     "output_type": "error",
     "traceback": [
      "\u001b[1;31m---------------------------------------------------------------------------\u001b[0m",
      "\u001b[1;31mKeyboardInterrupt\u001b[0m                         Traceback (most recent call last)",
      "Cell \u001b[1;32mIn[5], line 6\u001b[0m\n\u001b[0;32m      4\u001b[0m     mask \u001b[39m=\u001b[39m subtractor\u001b[39m.\u001b[39mapply(frame)    \n\u001b[0;32m      5\u001b[0m     cv\u001b[39m.\u001b[39mimshow(\u001b[39m'\u001b[39m\u001b[39mmask\u001b[39m\u001b[39m'\u001b[39m, mask)\n\u001b[1;32m----> 6\u001b[0m     \u001b[39mif\u001b[39;00m cv\u001b[39m.\u001b[39;49mwaitKey(\u001b[39m1\u001b[39;49m) \u001b[39m==\u001b[39m \u001b[39mord\u001b[39m(\u001b[39m'\u001b[39m\u001b[39mq\u001b[39m\u001b[39m'\u001b[39m):\n\u001b[0;32m      7\u001b[0m         \u001b[39mbreak\u001b[39;00m\n\u001b[0;32m      8\u001b[0m \u001b[39melse\u001b[39;00m:\n",
      "\u001b[1;31mKeyboardInterrupt\u001b[0m: "
     ]
    }
   ],
   "source": [
    "while True:\n",
    "    ret, frame = video.read()\n",
    "    if ret:      \n",
    "        mask = subtractor.apply(frame)    \n",
    "        cv.imshow('mask', mask)\n",
    "        if cv.waitKey(1) == ord('q'):\n",
    "            break\n",
    "    else:\n",
    "        video = cv.VideoCapture('vid.mp4')\n",
    "cv.destroyAllWindows()\n",
    "video.release()\n"
   ]
  },
  {
   "attachments": {},
   "cell_type": "markdown",
   "metadata": {},
   "source": [
    "# Convert to gray SCALE and then Color"
   ]
  },
  {
   "cell_type": "code",
   "execution_count": 13,
   "metadata": {},
   "outputs": [
    {
     "data": {
      "text/plain": [
       "3"
      ]
     },
     "execution_count": 13,
     "metadata": {},
     "output_type": "execute_result"
    }
   ],
   "source": [
    "\n",
    "# Frames in Gray\n",
    "# count frames\n",
    "total_frames = int(video.get(cv.CAP_PROP_FRAME_COUNT))\n",
    "print(total_frames)\n",
    "half_frames = total_frames // 2\n",
    "current_frame = 0\n",
    "while True:\n",
    "    ret, frame = video.read()\n",
    "    if ret:\n",
    "        if current_frame < half_frames:      \n",
    "            gray = cv.cvtColor(frame, cv.COLOR_BGR2GRAY)\n",
    "            cv.imshow('frame', gray)\n",
    "        else:\n",
    "            cv.imshow('frame', frame)\n",
    "        if cv.waitKey(1) == ord('q'):\n",
    "            break\n",
    "        current_frame += 1\n",
    "    else:\n",
    "        video = cv.VideoCapture('vid.mp4')\n",
    "cv.destroyAllWindows()\n",
    "video.release()"
   ]
  },
  {
   "attachments": {},
   "cell_type": "markdown",
   "metadata": {},
   "source": [
    "# Gaussian filter"
   ]
  },
  {
   "cell_type": "code",
   "execution_count": 16,
   "metadata": {},
   "outputs": [
    {
     "name": "stdout",
     "output_type": "stream",
     "text": [
      "285\n"
     ]
    },
    {
     "ename": "NameError",
     "evalue": "name 'cv2' is not defined",
     "output_type": "error",
     "traceback": [
      "\u001b[1;31m---------------------------------------------------------------------------\u001b[0m",
      "\u001b[1;31mNameError\u001b[0m                                 Traceback (most recent call last)",
      "Cell \u001b[1;32mIn[16], line 9\u001b[0m\n\u001b[0;32m      7\u001b[0m \u001b[39mif\u001b[39;00m ret:\n\u001b[0;32m      8\u001b[0m     \u001b[39mif\u001b[39;00m current_frame \u001b[39m<\u001b[39m half_frames:    \n\u001b[1;32m----> 9\u001b[0m         frame \u001b[39m=\u001b[39m cv2\u001b[39m.\u001b[39mGaussianBlur(frame,(\u001b[39m5\u001b[39m,\u001b[39m5\u001b[39m),\u001b[39m0\u001b[39m)              \n\u001b[0;32m     10\u001b[0m         cv\u001b[39m.\u001b[39mimshow(\u001b[39m'\u001b[39m\u001b[39mframe\u001b[39m\u001b[39m'\u001b[39m, frame)\n\u001b[0;32m     11\u001b[0m     \u001b[39melse\u001b[39;00m:\n",
      "\u001b[1;31mNameError\u001b[0m: name 'cv2' is not defined"
     ]
    }
   ],
   "source": [
    "\n",
    "\n",
    "total_frames = int(video.get(cv.CAP_PROP_FRAME_COUNT))\n",
    "print(total_frames)\n",
    "half_frames = total_frames // 2\n",
    "current_frame = 0\n",
    "while True:\n",
    "    ret, frame = video.read()\n",
    "    if ret:\n",
    "        if current_frame < half_frames:    \n",
    "            frame_gaussian = cv.GaussianBlur(frame,(5,5),0)              \n",
    "            cv.imshow('frame', frame_gaussian)\n",
    "        else:\n",
    "            cv.imshow('frame', frame)\n",
    "        if cv.waitKey(1) == ord('q'):\n",
    "            break\n",
    "        current_frame += 1\n",
    "    else:\n",
    "        video = cv.VideoCapture('vid.mp4')\n",
    "cv.destroyAllWindows()\n",
    "video.release()"
   ]
  },
  {
   "attachments": {},
   "cell_type": "markdown",
   "metadata": {},
   "source": [
    "# bilateral filtering"
   ]
  },
  {
   "cell_type": "code",
   "execution_count": null,
   "metadata": {},
   "outputs": [],
   "source": [
    "total_frames = int(video.get(cv.CAP_PROP_FRAME_COUNT))\n",
    "print(total_frames)\n",
    "half_frames = total_frames // 2\n",
    "current_frame = 0\n",
    "while True:\n",
    "    ret, frame = video.read()\n",
    "    if ret:\n",
    "        if current_frame < half_frames:    \n",
    "            frame_gaussian = cv.bilateralFilter(frame,15,75,75)              \n",
    "            cv.imshow('frame', frame_gaussian)\n",
    "        else:\n",
    "            cv.imshow('frame', frame)\n",
    "        if cv.waitKey(1) == ord('q'):\n",
    "            break\n",
    "        current_frame += 1\n",
    "    else:\n",
    "        video = cv.VideoCapture('vid.mp4')\n",
    "cv.destroyAllWindows()\n",
    "video.release()"
   ]
  },
  {
   "attachments": {},
   "cell_type": "markdown",
   "metadata": {},
   "source": [
    "# Object Grabbing - rectangular static square"
   ]
  },
  {
   "cell_type": "code",
   "execution_count": null,
   "metadata": {},
   "outputs": [],
   "source": [
    "video2 = cv.VideoCapture('video2.mp4')\n",
    "\n",
    "\n",
    "# Load the video\n",
    "cap = cv.VideoCapture('video2.mp4')\n",
    "\n",
    "# Create a window to display the video\n",
    "cv.namedWindow('Video')\n",
    "\n",
    "# Loop through the frames\n",
    "while True:\n",
    "    # Read a frame from the video\n",
    "    ret, frame = cap.read()\n",
    "    \n",
    "    # Convert the frame to grayscale\n",
    "    gray = cv.cvtColor(frame, cv.COLOR_BGR2GRAY)\n",
    "    \n",
    "    # Detect the object using a technique such as template matching or contour detection\n",
    "    # You can replace this with your own code to detect the object\n",
    "    # Here, we're just drawing a rectangle around the center of the frame\n",
    "    height, width = gray.shape\n",
    "    x = int(width/2 - 50)\n",
    "    y = int(height/2 - 50)\n",
    "    cv.rectangle(frame, (x, y), (x+100, y+100), (0, 255, 0), 2)\n",
    "    \n",
    "    # Display the video in the window\n",
    "    cv.imshow('Video', frame)\n",
    "    \n",
    "    # Wait for a key press before moving to the next frame\n",
    "    if cv.waitKey(1) == ord('q'):\n",
    "        break\n",
    "\n",
    "# Release the video and close the window\n",
    "cap.release()\n",
    "cv.destroyAllWindows()"
   ]
  },
  {
   "attachments": {},
   "cell_type": "markdown",
   "metadata": {},
   "source": [
    " # Binary morphological \n"
   ]
  },
  {
   "cell_type": "code",
   "execution_count": null,
   "metadata": {},
   "outputs": [],
   "source": [
    "# Load the image\n",
    "img = cv.imread('img_lime.jpg')\n",
    "\n",
    "# Convert the image to grayscale\n",
    "gray = cv.cvtColor(img, cv.COLOR_BGR2GRAY)\n",
    "\n",
    "# Apply thresholding\n",
    "ret, thresh = cv.threshold(gray, 127, 255, cv.THRESH_BINARY)\n",
    "\n",
    "# Apply binary morphological operations\n",
    "kernel = cv.getStructuringElement(cv.MORPH_ELLIPSE , (5, 5)) #MORPH_RECT\n",
    "eroded = cv.erode(thresh, kernel, iterations=1)\n",
    "dilated = cv.dilate(eroded, kernel, iterations=1)\n",
    "\n",
    "# Find contours\n",
    "contours, hierarchy = cv.findContours(dilated, cv.RETR_EXTERNAL, cv.CHAIN_APPROX_SIMPLE)\n",
    "\n",
    "# Draw a rectangle around the object\n",
    "for contour in contours:\n",
    "    x, y, w, h = cv.boundingRect(contour)\n",
    "    cv.rectangle(img, (x, y), (x+w, y+h), (0, 255, 0), 2)\n",
    "\n",
    "# Display the result\n",
    "cv.imshow('Image', img)\n",
    "cv.waitKey(0)\n",
    "cv.destroyAllWindows()"
   ]
  }
 ],
 "metadata": {
  "kernelspec": {
   "display_name": "CV",
   "language": "python",
   "name": "python3"
  },
  "language_info": {
   "codemirror_mode": {
    "name": "ipython",
    "version": 3
   },
   "file_extension": ".py",
   "mimetype": "text/x-python",
   "name": "python",
   "nbconvert_exporter": "python",
   "pygments_lexer": "ipython3",
   "version": "3.9.16"
  },
  "orig_nbformat": 4
 },
 "nbformat": 4,
 "nbformat_minor": 2
}
